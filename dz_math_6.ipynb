{
 "cells": [
  {
   "cell_type": "code",
   "execution_count": 2,
   "metadata": {},
   "outputs": [],
   "source": [
    "##игра с параметрами"
   ]
  },
  {
   "cell_type": "code",
   "execution_count": null,
   "metadata": {},
   "outputs": [],
   "source": [
    "import numpy as np\n",
    "from scipy.optimize import differential_evolution"
   ]
  },
  {
   "cell_type": "code",
   "execution_count": 44,
   "metadata": {},
   "outputs": [
    {
     "data": {
      "text/plain": [
       "     fun: 4.440892098500626e-16\n",
       " message: 'Optimization terminated successfully.'\n",
       "    nfev: 4813\n",
       "     nit: 94\n",
       " success: True\n",
       "       x: array([0., 0.])"
      ]
     },
     "execution_count": 44,
     "metadata": {},
     "output_type": "execute_result"
    }
   ],
   "source": [
    "def ackley(x):\n",
    "    arg1 = -0.2 * np.sqrt(0.5 * (x[0] ** 2 + x[1] ** 2))\n",
    "    arg2 = 0.5 * (np.cos(2. * np.pi * x[0]) + np.cos(2. * np.pi * x[1]))\n",
    "    return -20. * np.exp(arg1) - np.exp(arg2) + 20. + np.e\n",
    "\n",
    "bounds = [(-10, 10), (-10, 10)]\n",
    "\n",
    "result = differential_evolution(ackley, bounds, popsize=25, seed=42)\n",
    "result"
   ]
  },
  {
   "cell_type": "code",
   "execution_count": 43,
   "metadata": {},
   "outputs": [
    {
     "data": {
      "text/plain": [
       "     fun: 4.440892098500626e-16\n",
       " message: 'Optimization terminated successfully.'\n",
       "    nfev: 2793\n",
       "     nit: 90\n",
       " success: True\n",
       "       x: array([0., 0.])"
      ]
     },
     "execution_count": 43,
     "metadata": {},
     "output_type": "execute_result"
    }
   ],
   "source": [
    "def ackley(x):\n",
    "    arg1 = -0.2 * np.sqrt(0.5 * (x[0] ** 2 + x[1] ** 2))\n",
    "    arg2 = 0.5 * (np.cos(2. * np.pi * x[0]) + np.cos(2. * np.pi * x[1]))\n",
    "    return -20. * np.exp(arg1) - np.exp(arg2) + 20. + np.e\n",
    "\n",
    "bounds = [(-10, 10), (-10, 10)]\n",
    "\n",
    "result = differential_evolution(ackley, bounds,  tol=0.31695, seed=42)\n",
    "result"
   ]
  },
  {
   "cell_type": "code",
   "execution_count": 4,
   "metadata": {},
   "outputs": [
    {
     "data": {
      "text/plain": [
       "     fun: 4.440892098500626e-16\n",
       " message: 'Optimization terminated successfully.'\n",
       "    nfev: 4773\n",
       "     nit: 156\n",
       " success: True\n",
       "       x: array([0., 0.])"
      ]
     },
     "execution_count": 4,
     "metadata": {},
     "output_type": "execute_result"
    }
   ],
   "source": [
    "def ackley(x):\n",
    "    arg1 = -0.2 * np.sqrt(0.5 * (x[0] ** 2 + x[1] ** 2))\n",
    "    arg2 = 0.5 * (np.cos(2. * np.pi * x[0]) + np.cos(2. * np.pi * x[1]))\n",
    "    return -20. * np.exp(arg1) - np.exp(arg2) + 20. + np.e\n",
    "\n",
    "bounds = [(-10, 10), (-10, 10)]\n",
    "\n",
    "result = differential_evolution(ackley, bounds, strategy='randtobest1exp', seed=42)\n",
    "result"
   ]
  },
  {
   "cell_type": "code",
   "execution_count": 20,
   "metadata": {},
   "outputs": [
    {
     "data": {
      "text/plain": [
       "     fun: 4.440892098500626e-16\n",
       " message: 'Optimization terminated successfully.'\n",
       "    nfev: 7053\n",
       "     nit: 232\n",
       " success: True\n",
       "       x: array([0., 0.])"
      ]
     },
     "execution_count": 20,
     "metadata": {},
     "output_type": "execute_result"
    }
   ],
   "source": [
    "def ackley(x):\n",
    "    arg1 = -0.2 * np.sqrt(0.5 * (x[0] ** 2 + x[1] ** 2))\n",
    "    arg2 = 0.5 * (np.cos(2. * np.pi * x[0]) + np.cos(2. * np.pi * x[1]))\n",
    "    return -20. * np.exp(arg1) - np.exp(arg2) + 20. + np.e\n",
    "\n",
    "bounds = [(-10, 10), (-10, 10)]\n",
    "\n",
    "result = differential_evolution(ackley, bounds, strategy='rand2bin', seed=42, updating='immediate')\n",
    "result"
   ]
  },
  {
   "cell_type": "code",
   "execution_count": 16,
   "metadata": {},
   "outputs": [
    {
     "data": {
      "text/plain": [
       "     fun: 4.440892098500626e-16\n",
       " message: 'Optimization terminated successfully.'\n",
       "    nfev: 3103\n",
       "     nit: 15\n",
       " success: True\n",
       "       x: array([0., 0.])"
      ]
     },
     "execution_count": 16,
     "metadata": {},
     "output_type": "execute_result"
    }
   ],
   "source": [
    "###предположительно, это решение доп. задания\n",
    "def ackley(x):\n",
    "    arg1 = -0.2 * np.sqrt(0.5 * (x[0] ** 2 + x[1] ** 2))\n",
    "    arg2 = 0.5 * (np.cos(2. * np.pi * x[0]) + np.cos(2. * np.pi * x[1]))\n",
    "    return -20. * np.exp(arg1) - np.exp(arg2) + 20. + np.e\n",
    "\n",
    "bounds = [(-10, 10), (-10, 10)]\n",
    "\n",
    "result = differential_evolution(ackley, bounds, popsize=95, seed=42, mutation=0.114791, recombination=0.999, updating='immediate')\n",
    "result"
   ]
  },
  {
   "cell_type": "code",
   "execution_count": null,
   "metadata": {},
   "outputs": [],
   "source": []
  }
 ],
 "metadata": {
  "kernelspec": {
   "display_name": "Python 3",
   "language": "python",
   "name": "python3"
  }
 },
 "nbformat": 4,
 "nbformat_minor": 4
}
