{
 "cells": [
  {
   "cell_type": "markdown",
   "metadata": {},
   "source": [
    "#### Уровень 0"
   ]
  },
  {
   "cell_type": "code",
   "execution_count": 93,
   "metadata": {},
   "outputs": [
    {
     "data": {
      "text/plain": [
       "2.5090718391851397"
      ]
     },
     "execution_count": 93,
     "metadata": {},
     "output_type": "execute_result"
    }
   ],
   "source": [
    "### первая производная со значением в точке х=1\n",
    "import math\n",
    "from scipy.misc import derivative\n",
    "\n",
    "def f(x):\n",
    "    return x**5+4*math.sin(2*x)+math.cos(3*x+3)\n",
    "derivative (f, 1.0, dx=1e-8)"
   ]
  },
  {
   "cell_type": "code",
   "execution_count": 68,
   "metadata": {},
   "outputs": [
    {
     "data": {
      "text/latex": [
       "$\\displaystyle -3.1902914$"
      ],
      "text/plain": [
       "-3.1902914"
      ]
     },
     "execution_count": 68,
     "metadata": {},
     "output_type": "execute_result"
    }
   ],
   "source": [
    "### вторая производная со значением в точке х=1\n",
    "from sympy import diff, symbols, cos, sin\n",
    "x=symbols('x')\n",
    "y=diff(diff(x**5+4*sin(2*x)+cos(3*x+3)))\n",
    "y.evalf(8,subs={x:1})"
   ]
  }
 ],
 "metadata": {
  "kernelspec": {
   "display_name": "Python 3",
   "language": "python",
   "name": "python3"
  },
  "language_info": {
   "codemirror_mode": {
    "name": "ipython",
    "version": 3
   },
   "file_extension": ".py",
   "mimetype": "text/x-python",
   "name": "python",
   "nbconvert_exporter": "python",
   "pygments_lexer": "ipython3",
   "version": "3.8.5"
  }
 },
 "nbformat": 4,
 "nbformat_minor": 4
}
