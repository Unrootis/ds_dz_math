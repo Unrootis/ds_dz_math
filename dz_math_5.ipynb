{
 "cells": [
  {
   "cell_type": "code",
   "execution_count": 10,
   "metadata": {},
   "outputs": [
    {
     "data": {
      "text/latex": [
       "$\\displaystyle 4 x y^{3} + y^{2} - \\frac{1}{x^{2}}$"
      ],
      "text/plain": [
       "4*x*y**3 + y**2 - 1/x**2"
      ]
     },
     "execution_count": 10,
     "metadata": {},
     "output_type": "execute_result"
    }
   ],
   "source": [
    "##частная производная по x\n",
    "from sympy import diff, symbols\n",
    "x,y=symbols('x y')\n",
    "y=diff(2*x**2*y**3+1/x+y**2*x+7, x)\n",
    "y"
   ]
  },
  {
   "cell_type": "code",
   "execution_count": 6,
   "metadata": {},
   "outputs": [
    {
     "data": {
      "text/latex": [
       "$\\displaystyle 6 x^{2} y^{2} + 2 x y$"
      ],
      "text/plain": [
       "6*x**2*y**2 + 2*x*y"
      ]
     },
     "execution_count": 6,
     "metadata": {},
     "output_type": "execute_result"
    }
   ],
   "source": [
    "##частная производная по y\n",
    "from sympy import diff, symbols\n",
    "x,y=symbols('x y')\n",
    "x=diff(2*x**2*y**3+1/x+y**2*x+7, y)\n",
    "x"
   ]
  },
  {
   "cell_type": "code",
   "execution_count": 21,
   "metadata": {},
   "outputs": [
    {
     "data": {
      "text/plain": [
       "array([35.00000024, 28.00000024])"
      ]
     },
     "execution_count": 21,
     "metadata": {},
     "output_type": "execute_result"
    }
   ],
   "source": [
    "##градиент\n",
    "import numpy as np\n",
    "from scipy.optimize import approx_fprime\n",
    "def func(z, c0, c1, c2, c3):\n",
    "    \"Coordinate vector `x` should be an array of size two.\"\n",
    "    return c0*z[0]**2*z[1]**3+c1*1/z[0]+c2*z[1]**2*z[0]+c3*1\n",
    "z=np.array([1,2])\n",
    "c0, c1, c2, c3=(2, 1, 1, 7)\n",
    "eps=np.sqrt(np.finfo(float).eps)\n",
    "approx_fprime(z, func, [eps,eps], c0, c1, c2, c3)"
   ]
  },
  {
   "cell_type": "code",
   "execution_count": 8,
   "metadata": {},
   "outputs": [
    {
     "data": {
      "text/latex": [
       "$\\displaystyle 2 x y - 2 x \\sin{\\left(x^{2} \\right)} - y \\cos{\\left(x y \\right)}$"
      ],
      "text/plain": [
       "2*x*y - 2*x*sin(x**2) - y*cos(x*y)"
      ]
     },
     "execution_count": 8,
     "metadata": {},
     "output_type": "execute_result"
    }
   ],
   "source": [
    "##частная производная по x\n",
    "from sympy import diff, symbols, cos, sin\n",
    "x,y=symbols('x y')\n",
    "y=diff(x**2*y-sin(x*y)+cos(x**2)+6*y, x)\n",
    "y"
   ]
  },
  {
   "cell_type": "code",
   "execution_count": 9,
   "metadata": {},
   "outputs": [
    {
     "data": {
      "text/latex": [
       "$\\displaystyle x^{2} - x \\cos{\\left(x y \\right)} + 6$"
      ],
      "text/plain": [
       "x**2 - x*cos(x*y) + 6"
      ]
     },
     "execution_count": 9,
     "metadata": {},
     "output_type": "execute_result"
    }
   ],
   "source": [
    "##частная производная по y\n",
    "from sympy import diff, symbols, cos, sin\n",
    "x,y=symbols('x y')\n",
    "x=diff(x**2*y-sin(x*y)+cos(x**2)+6*y, y)\n",
    "x"
   ]
  },
  {
   "cell_type": "code",
   "execution_count": null,
   "metadata": {},
   "outputs": [],
   "source": []
  }
 ],
 "metadata": {
  "kernelspec": {
   "display_name": "Python 3",
   "language": "python",
   "name": "python3"
  },
  "language_info": {
   "codemirror_mode": {
    "name": "ipython",
    "version": 3
   },
   "file_extension": ".py",
   "mimetype": "text/x-python",
   "name": "python",
   "nbconvert_exporter": "python",
   "pygments_lexer": "ipython3",
   "version": "3.8.5"
  }
 },
 "nbformat": 4,
 "nbformat_minor": 4
}
